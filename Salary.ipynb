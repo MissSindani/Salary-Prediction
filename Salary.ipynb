{
 "cells": [
  {
   "cell_type": "markdown",
   "id": "df3af85c-c911-4076-a30c-d5b128d80709",
   "metadata": {},
   "source": [
    "### Predicting Salary Using Experience - Linear Regression"
   ]
  },
  {
   "cell_type": "code",
   "execution_count": 1,
   "id": "ddbb5b08-fe13-423d-ab2c-01bdc59939fe",
   "metadata": {},
   "outputs": [],
   "source": [
    "## This project is started on the 11th of July 2024. I will be working solely using the knowledge I obtained in class"
   ]
  },
  {
   "cell_type": "markdown",
   "id": "70925520-daab-4e8b-99ed-4d213f237a3a",
   "metadata": {},
   "source": [
    "#### Import Important Libraries"
   ]
  },
  {
   "cell_type": "code",
   "execution_count": 2,
   "id": "7f1b7fb2-fc63-42b2-abdd-3aca174f8490",
   "metadata": {},
   "outputs": [],
   "source": [
    "import pandas as pd #I will use it to read our data in a CSV format and to manipulate if required \n",
    "import numpy as np #Our data consists of numbers, this can also be essential to reshape our dataset to required arrays\n",
    "import matplotlib.pyplot as plt #Visialization and easier to indicate names and show \n",
    "import seaborn as sns #Visualization\n",
    "from sklearn.linear_model import LinearRegression #The machine learning tool we will use\n",
    "from sklearn.model_selection import train_test_split #The tool we will use to split out data to train and other to test\n",
    "from sklearn import metrics\n",
    "\n",
    "%matplotlib inline\n",
    "#originally using a jupyter notebook, Making sure we are working inlines"
   ]
  },
  {
   "cell_type": "code",
   "execution_count": 3,
   "id": "5ad5db9f-22df-494f-a7c3-fc47ef7550cd",
   "metadata": {},
   "outputs": [
    {
     "data": {
      "text/html": [
       "<div>\n",
       "<style scoped>\n",
       "    .dataframe tbody tr th:only-of-type {\n",
       "        vertical-align: middle;\n",
       "    }\n",
       "\n",
       "    .dataframe tbody tr th {\n",
       "        vertical-align: top;\n",
       "    }\n",
       "\n",
       "    .dataframe thead th {\n",
       "        text-align: right;\n",
       "    }\n",
       "</style>\n",
       "<table border=\"1\" class=\"dataframe\">\n",
       "  <thead>\n",
       "    <tr style=\"text-align: right;\">\n",
       "      <th></th>\n",
       "      <th>YearsExperience</th>\n",
       "      <th>Salary</th>\n",
       "    </tr>\n",
       "  </thead>\n",
       "  <tbody>\n",
       "    <tr>\n",
       "      <th>0</th>\n",
       "      <td>1.1</td>\n",
       "      <td>39343</td>\n",
       "    </tr>\n",
       "    <tr>\n",
       "      <th>1</th>\n",
       "      <td>1.3</td>\n",
       "      <td>46205</td>\n",
       "    </tr>\n",
       "    <tr>\n",
       "      <th>2</th>\n",
       "      <td>1.5</td>\n",
       "      <td>37731</td>\n",
       "    </tr>\n",
       "    <tr>\n",
       "      <th>3</th>\n",
       "      <td>2.0</td>\n",
       "      <td>43525</td>\n",
       "    </tr>\n",
       "    <tr>\n",
       "      <th>4</th>\n",
       "      <td>2.2</td>\n",
       "      <td>39891</td>\n",
       "    </tr>\n",
       "    <tr>\n",
       "      <th>5</th>\n",
       "      <td>2.9</td>\n",
       "      <td>56642</td>\n",
       "    </tr>\n",
       "    <tr>\n",
       "      <th>6</th>\n",
       "      <td>3.0</td>\n",
       "      <td>60150</td>\n",
       "    </tr>\n",
       "    <tr>\n",
       "      <th>7</th>\n",
       "      <td>3.2</td>\n",
       "      <td>54445</td>\n",
       "    </tr>\n",
       "    <tr>\n",
       "      <th>8</th>\n",
       "      <td>3.2</td>\n",
       "      <td>64445</td>\n",
       "    </tr>\n",
       "    <tr>\n",
       "      <th>9</th>\n",
       "      <td>3.7</td>\n",
       "      <td>57189</td>\n",
       "    </tr>\n",
       "  </tbody>\n",
       "</table>\n",
       "</div>"
      ],
      "text/plain": [
       "   YearsExperience  Salary\n",
       "0              1.1   39343\n",
       "1              1.3   46205\n",
       "2              1.5   37731\n",
       "3              2.0   43525\n",
       "4              2.2   39891\n",
       "5              2.9   56642\n",
       "6              3.0   60150\n",
       "7              3.2   54445\n",
       "8              3.2   64445\n",
       "9              3.7   57189"
      ]
     },
     "execution_count": 3,
     "metadata": {},
     "output_type": "execute_result"
    }
   ],
   "source": [
    "raw_data = pd.read_csv(\"Salary.csv\") #using the name \"raw_data\" to indicate the stated we got it in\n",
    "raw_data.head(10) #reading the top 10 entries of our data. index starts at 0"
   ]
  },
  {
   "cell_type": "code",
   "execution_count": 4,
   "id": "bf9c4575-a90c-484a-a6a2-615538cfff4a",
   "metadata": {},
   "outputs": [],
   "source": [
    "salary_data = raw_data.copy() #making a copy in case we make a mistake we can always come back to rectify by using the original"
   ]
  },
  {
   "cell_type": "code",
   "execution_count": 5,
   "id": "4f2b1713-5280-4a79-a27c-23ec8890f1f6",
   "metadata": {},
   "outputs": [
    {
     "data": {
      "text/plain": [
       "YearsExperience    0\n",
       "Salary             0\n",
       "dtype: int64"
      ]
     },
     "execution_count": 5,
     "metadata": {},
     "output_type": "execute_result"
    }
   ],
   "source": [
    "salary_data.isnull().sum() #checking the number of null values we have summed up"
   ]
  },
  {
   "cell_type": "code",
   "execution_count": 6,
   "id": "a7e3add0-fd93-4cf6-93f6-2a406f5647d4",
   "metadata": {},
   "outputs": [
    {
     "data": {
      "text/html": [
       "<div>\n",
       "<style scoped>\n",
       "    .dataframe tbody tr th:only-of-type {\n",
       "        vertical-align: middle;\n",
       "    }\n",
       "\n",
       "    .dataframe tbody tr th {\n",
       "        vertical-align: top;\n",
       "    }\n",
       "\n",
       "    .dataframe thead th {\n",
       "        text-align: right;\n",
       "    }\n",
       "</style>\n",
       "<table border=\"1\" class=\"dataframe\">\n",
       "  <thead>\n",
       "    <tr style=\"text-align: right;\">\n",
       "      <th></th>\n",
       "      <th>count</th>\n",
       "      <th>mean</th>\n",
       "      <th>std</th>\n",
       "      <th>min</th>\n",
       "      <th>25%</th>\n",
       "      <th>50%</th>\n",
       "      <th>75%</th>\n",
       "      <th>max</th>\n",
       "    </tr>\n",
       "  </thead>\n",
       "  <tbody>\n",
       "    <tr>\n",
       "      <th>YearsExperience</th>\n",
       "      <td>35.0</td>\n",
       "      <td>6.308571</td>\n",
       "      <td>3.618610</td>\n",
       "      <td>1.1</td>\n",
       "      <td>3.45</td>\n",
       "      <td>5.3</td>\n",
       "      <td>9.25</td>\n",
       "      <td>13.5</td>\n",
       "    </tr>\n",
       "    <tr>\n",
       "      <th>Salary</th>\n",
       "      <td>35.0</td>\n",
       "      <td>83945.600000</td>\n",
       "      <td>32162.673003</td>\n",
       "      <td>37731.0</td>\n",
       "      <td>57019.00</td>\n",
       "      <td>81363.0</td>\n",
       "      <td>113223.50</td>\n",
       "      <td>139465.0</td>\n",
       "    </tr>\n",
       "  </tbody>\n",
       "</table>\n",
       "</div>"
      ],
      "text/plain": [
       "                 count          mean           std      min       25%  \\\n",
       "YearsExperience   35.0      6.308571      3.618610      1.1      3.45   \n",
       "Salary            35.0  83945.600000  32162.673003  37731.0  57019.00   \n",
       "\n",
       "                     50%        75%       max  \n",
       "YearsExperience      5.3       9.25      13.5  \n",
       "Salary           81363.0  113223.50  139465.0  "
      ]
     },
     "execution_count": 6,
     "metadata": {},
     "output_type": "execute_result"
    }
   ],
   "source": [
    "salary_data.describe().T #our statistical view "
   ]
  },
  {
   "cell_type": "code",
   "execution_count": 7,
   "id": "b18af30a-c5eb-47f8-b10d-c4ca384f2b03",
   "metadata": {},
   "outputs": [
    {
     "name": "stderr",
     "output_type": "stream",
     "text": [
      "C:\\Users\\Ishita Sindani\\anaconda3\\Lib\\site-packages\\seaborn\\_oldcore.py:1119: FutureWarning: use_inf_as_na option is deprecated and will be removed in a future version. Convert inf values to NaN before operating instead.\n",
      "  with pd.option_context('mode.use_inf_as_na', True):\n",
      "C:\\Users\\Ishita Sindani\\anaconda3\\Lib\\site-packages\\seaborn\\_oldcore.py:1119: FutureWarning: use_inf_as_na option is deprecated and will be removed in a future version. Convert inf values to NaN before operating instead.\n",
      "  with pd.option_context('mode.use_inf_as_na', True):\n"
     ]
    },
    {
     "data": {
      "image/png": "[encoded data removed]",
      "text/plain": [
       "<Figure size 500x500 with 6 Axes>"
      ]
     },
     "metadata": {},
     "output_type": "display_data"
    }
   ],
   "source": [
    "sns.pairplot(salary_data)\n",
    "plt.title(\"Pairplot Of Experience in years vs Salary\")\n",
    "plt.show() #showing our visialization"
   ]
  },
  {
   "cell_type": "code",
   "execution_count": 8,
   "id": "7448094e-034c-43bf-898a-a272f2459d88",
   "metadata": {},
   "outputs": [],
   "source": [
    "x = salary_data.drop(['Salary'], axis = 1)\n",
    "y = salary_data['Salary']"
   ]
  },
  {
   "cell_type": "code",
   "execution_count": 9,
   "id": "235954fd-d52c-401f-9a48-1e42351634cd",
   "metadata": {},
   "outputs": [],
   "source": [
    "x_train, x_test, y_train, y_test = train_test_split(x, y , test_size = 0.30 , random_state = 1)"
   ]
  },
  {
   "cell_type": "code",
   "execution_count": 10,
   "id": "95ff783f-b948-4e4a-976c-e4fab1151403",
   "metadata": {},
   "outputs": [],
   "source": [
    "model = LinearRegression()"
   ]
  },
  {
   "cell_type": "code",
   "execution_count": 11,
   "id": "d1d8b6d8-664e-44f4-9800-f6d94800f0df",
   "metadata": {},
   "outputs": [
    {
     "data": {
      "text/html": [
       "<style>#sk-container-id-1 {color: black;background-color: white;}#sk-container-id-1 pre{padding: 0;}#sk-container-id-1 div.sk-toggleable {background-color: white;}#sk-container-id-1 label.sk-toggleable__label {cursor: pointer;display: block;width: 100%;margin-bottom: 0;padding: 0.3em;box-sizing: border-box;text-align: center;}#sk-container-id-1 label.sk-toggleable__label-arrow:before {content: \"▸\";float: left;margin-right: 0.25em;color: #696969;}#sk-container-id-1 label.sk-toggleable__label-arrow:hover:before {color: black;}#sk-container-id-1 div.sk-estimator:hover label.sk-toggleable__label-arrow:before {color: black;}#sk-container-id-1 div.sk-toggleable__content {max-height: 0;max-width: 0;overflow: hidden;text-align: left;background-color: #f0f8ff;}#sk-container-id-1 div.sk-toggleable__content pre {margin: 0.2em;color: black;border-radius: 0.25em;background-color: #f0f8ff;}#sk-container-id-1 input.sk-toggleable__control:checked~div.sk-toggleable__content {max-height: 200px;max-width: 100%;overflow: auto;}#sk-container-id-1 input.sk-toggleable__control:checked~label.sk-toggleable__label-arrow:before {content: \"▾\";}#sk-container-id-1 div.sk-estimator input.sk-toggleable__control:checked~label.sk-toggleable__label {background-color: #d4ebff;}#sk-container-id-1 div.sk-label input.sk-toggleable__control:checked~label.sk-toggleable__label {background-color: #d4ebff;}#sk-container-id-1 input.sk-hidden--visually {border: 0;clip: rect(1px 1px 1px 1px);clip: rect(1px, 1px, 1px, 1px);height: 1px;margin: -1px;overflow: hidden;padding: 0;position: absolute;width: 1px;}#sk-container-id-1 div.sk-estimator {font-family: monospace;background-color: #f0f8ff;border: 1px dotted black;border-radius: 0.25em;box-sizing: border-box;margin-bottom: 0.5em;}#sk-container-id-1 div.sk-estimator:hover {background-color: #d4ebff;}#sk-container-id-1 div.sk-parallel-item::after {content: \"\";width: 100%;border-bottom: 1px solid gray;flex-grow: 1;}#sk-container-id-1 div.sk-label:hover label.sk-toggleable__label {background-color: #d4ebff;}#sk-container-id-1 div.sk-serial::before {content: \"\";position: absolute;border-left: 1px solid gray;box-sizing: border-box;top: 0;bottom: 0;left: 50%;z-index: 0;}#sk-container-id-1 div.sk-serial {display: flex;flex-direction: column;align-items: center;background-color: white;padding-right: 0.2em;padding-left: 0.2em;position: relative;}#sk-container-id-1 div.sk-item {position: relative;z-index: 1;}#sk-container-id-1 div.sk-parallel {display: flex;align-items: stretch;justify-content: center;background-color: white;position: relative;}#sk-container-id-1 div.sk-item::before, #sk-container-id-1 div.sk-parallel-item::before {content: \"\";position: absolute;border-left: 1px solid gray;box-sizing: border-box;top: 0;bottom: 0;left: 50%;z-index: -1;}#sk-container-id-1 div.sk-parallel-item {display: flex;flex-direction: column;z-index: 1;position: relative;background-color: white;}#sk-container-id-1 div.sk-parallel-item:first-child::after {align-self: flex-end;width: 50%;}#sk-container-id-1 div.sk-parallel-item:last-child::after {align-self: flex-start;width: 50%;}#sk-container-id-1 div.sk-parallel-item:only-child::after {width: 0;}#sk-container-id-1 div.sk-dashed-wrapped {border: 1px dashed gray;margin: 0 0.4em 0.5em 0.4em;box-sizing: border-box;padding-bottom: 0.4em;background-color: white;}#sk-container-id-1 div.sk-label label {font-family: monospace;font-weight: bold;display: inline-block;line-height: 1.2em;}#sk-container-id-1 div.sk-label-container {text-align: center;}#sk-container-id-1 div.sk-container {/* jupyter's `normalize.less` sets `[hidden] { display: none; }` but bootstrap.min.css set `[hidden] { display: none !important; }` so we also need the `!important` here to be able to override the default hidden behavior on the sphinx rendered scikit-learn.org. See: https://github.com/scikit-learn/scikit-learn/issues/21755 */display: inline-block !important;position: relative;}#sk-container-id-1 div.sk-text-repr-fallback {display: none;}</style><div id=\"sk-container-id-1\" class=\"sk-top-container\"><div class=\"sk-text-repr-fallback\"><pre>LinearRegression()</pre><b>In a Jupyter environment, please rerun this cell to show the HTML representation or trust the notebook. <br />On GitHub, the HTML representation is unable to render, please try loading this page with nbviewer.org.</b></div><div class=\"sk-container\" hidden><div class=\"sk-item\"><div class=\"sk-estimator sk-toggleable\"><input class=\"sk-toggleable__control sk-hidden--visually\" id=\"sk-estimator-id-1\" type=\"checkbox\" checked><label for=\"sk-estimator-id-1\" class=\"sk-toggleable__label sk-toggleable__label-arrow\">LinearRegression</label><div class=\"sk-toggleable__content\"><pre>LinearRegression()</pre></div></div></div></div></div>"
      ],
      "text/plain": [
       "LinearRegression()"
      ]
     },
     "execution_count": 11,
     "metadata": {},
     "output_type": "execute_result"
    }
   ],
   "source": [
    "model.fit(x_train, y_train)"
   ]
  },
  {
   "cell_type": "code",
   "execution_count": 12,
   "id": "e56e15f8-b0fa-49da-bba9-317e32638871",
   "metadata": {},
   "outputs": [
    {
     "data": {
      "text/plain": [
       "array([104604.63105695,  47384.16221324,  41221.95787622, 100203.05653051,\n",
       "       107245.57577282,  62349.51560313, 129253.44840501,  90519.59257235,\n",
       "       126612.50368915,  87878.64785648,  79955.81370889,  54426.68145554,\n",
       "        64110.14541371,  56187.31126612, 146859.74651077,  39461.32806565,\n",
       "        72913.29446659,  37700.69825507,  71152.66465601,  53546.36655025,\n",
       "        63229.83050842,  60588.88579256,  56187.31126612,  63229.83050842])"
      ]
     },
     "execution_count": 12,
     "metadata": {},
     "output_type": "execute_result"
    }
   ],
   "source": [
    "model.predict(x_train) #Obtaining our Y which is predicted by the X"
   ]
  },
  {
   "cell_type": "markdown",
   "id": "6676ff05-04ee-4d60-8752-8a10045d3df5",
   "metadata": {},
   "source": [
    "#### Building Up The Linear Regression Equation Manually\n",
    "##### y= mx + c"
   ]
  },
  {
   "cell_type": "code",
   "execution_count": 13,
   "id": "ad4fb650-d235-4aed-8c51-78fdbb98058f",
   "metadata": {},
   "outputs": [
    {
     "data": {
      "text/html": [
       "<div>\n",
       "<style scoped>\n",
       "    .dataframe tbody tr th:only-of-type {\n",
       "        vertical-align: middle;\n",
       "    }\n",
       "\n",
       "    .dataframe tbody tr th {\n",
       "        vertical-align: top;\n",
       "    }\n",
       "\n",
       "    .dataframe thead th {\n",
       "        text-align: right;\n",
       "    }\n",
       "</style>\n",
       "<table border=\"1\" class=\"dataframe\">\n",
       "  <thead>\n",
       "    <tr style=\"text-align: right;\">\n",
       "      <th></th>\n",
       "      <th>YearsExperience</th>\n",
       "    </tr>\n",
       "  </thead>\n",
       "  <tbody>\n",
       "    <tr>\n",
       "      <th>5</th>\n",
       "      <td>2.9</td>\n",
       "    </tr>\n",
       "    <tr>\n",
       "      <th>11</th>\n",
       "      <td>4.0</td>\n",
       "    </tr>\n",
       "    <tr>\n",
       "      <th>9</th>\n",
       "      <td>3.7</td>\n",
       "    </tr>\n",
       "    <tr>\n",
       "      <th>8</th>\n",
       "      <td>3.2</td>\n",
       "    </tr>\n",
       "    <tr>\n",
       "      <th>12</th>\n",
       "      <td>4.0</td>\n",
       "    </tr>\n",
       "  </tbody>\n",
       "</table>\n",
       "</div>"
      ],
      "text/plain": [
       "    YearsExperience\n",
       "5               2.9\n",
       "11              4.0\n",
       "9               3.7\n",
       "8               3.2\n",
       "12              4.0"
      ]
     },
     "execution_count": 13,
     "metadata": {},
     "output_type": "execute_result"
    }
   ],
   "source": [
    "x_train.tail() #Our X used in training"
   ]
  },
  {
   "cell_type": "code",
   "execution_count": 14,
   "id": "226faa4a-9b5b-4604-a5a5-d10778e2f1b0",
   "metadata": {},
   "outputs": [
    {
     "data": {
      "text/plain": [
       "array([8803.14905288])"
      ]
     },
     "execution_count": 14,
     "metadata": {},
     "output_type": "execute_result"
    }
   ],
   "source": [
    "model.coef_ # our m in the equation which is the coefficient in our data it's specifically for YearsInExperience"
   ]
  },
  {
   "cell_type": "code",
   "execution_count": 15,
   "id": "87fb23e8-4273-46da-a362-2695e498c0a4",
   "metadata": {},
   "outputs": [
    {
     "data": {
      "text/plain": [
       "28017.234296906216"
      ]
     },
     "execution_count": 15,
     "metadata": {},
     "output_type": "execute_result"
    }
   ],
   "source": [
    "model.intercept_ #Our C which is the intercept"
   ]
  },
  {
   "cell_type": "markdown",
   "id": "79ba2318-4bfa-4940-bfd1-cc53692e1a7e",
   "metadata": {},
   "source": [
    "#### Manual Predication Using Row 8"
   ]
  },
  {
   "cell_type": "code",
   "execution_count": 16,
   "id": "cc98380e-0c0b-497e-b21d-0ccc3dbeb6b7",
   "metadata": {},
   "outputs": [
    {
     "name": "stderr",
     "output_type": "stream",
     "text": [
      "C:\\Users\\Ishita Sindani\\anaconda3\\Lib\\site-packages\\sklearn\\base.py:439: UserWarning: X does not have valid feature names, but LinearRegression was fitted with feature names\n",
      "  warnings.warn(\n"
     ]
    },
    {
     "data": {
      "text/plain": [
       "array([63229.83050842])"
      ]
     },
     "execution_count": 16,
     "metadata": {},
     "output_type": "execute_result"
    }
   ],
   "source": [
    "model.predict(np.array([4]).reshape(1,-1)) #our years in experience is 4"
   ]
  },
  {
   "cell_type": "code",
   "execution_count": 17,
   "id": "3ed4ccda-214b-4827-b1bb-866df38a67d1",
   "metadata": {},
   "outputs": [
    {
     "data": {
      "text/plain": [
       "96.30198945456388"
      ]
     },
     "execution_count": 17,
     "metadata": {},
     "output_type": "execute_result"
    }
   ],
   "source": [
    "model.score(x_train, y_train) * 100 # checking the score on our training data"
   ]
  },
  {
   "cell_type": "code",
   "execution_count": 19,
   "id": "5a46ba9c-31af-45b2-be3c-66f4d4ecab1d",
   "metadata": {},
   "outputs": [
    {
     "data": {
      "image/png": "[encoded data removed]",
      "text/plain": [
       "<Figure size 640x480 with 1 Axes>"
      ]
     },
     "metadata": {},
     "output_type": "display_data"
    }
   ],
   "source": [
    "plt.scatter(x_train, y_train, color = 'green')\n",
    "plt.xlabel(\"Years In Experience\")\n",
    "plt.ylabel(\"Salary Earned\")\n",
    "plt.title(\"Training Model Visualization\")\n",
    "plt.show()"
   ]
  },
  {
   "cell_type": "code",
   "execution_count": 20,
   "id": "4fc7ba39-eaa6-4aa3-8d2a-f474da167464",
   "metadata": {},
   "outputs": [
    {
     "data": {
      "text/plain": [
       "5260.273914581896"
      ]
     },
     "execution_count": 20,
     "metadata": {},
     "output_type": "execute_result"
    }
   ],
   "source": [
    "prediction = model.predict(x_test)\n",
    "MAE = metrics.mean_absolute_error(y_test, prediction)\n",
    "MAE"
   ]
  },
  {
   "cell_type": "code",
   "execution_count": 21,
   "id": "273a2942-26e0-4dea-b762-69c8b7460c3f",
   "metadata": {},
   "outputs": [
    {
     "data": {
      "text/plain": [
       "72.52774582586926"
      ]
     },
     "execution_count": 21,
     "metadata": {},
     "output_type": "execute_result"
    }
   ],
   "source": [
    "RMSE = np.sqrt(MAE)\n",
    "RMSE"
   ]
  },
  {
   "cell_type": "code",
   "execution_count": 23,
   "id": "37e8b5f7-4a93-4d38-be05-70337a6e87f7",
   "metadata": {},
   "outputs": [
    {
     "data": {
      "text/plain": [
       "94.84256766712261"
      ]
     },
     "execution_count": 23,
     "metadata": {},
     "output_type": "execute_result"
    }
   ],
   "source": [
    "model.score(x_test, y_test)  * 100"
   ]
  },
  {
   "cell_type": "code",
   "execution_count": 25,
   "id": "8a2794e6-6c5f-47ae-ae8b-b92d8363ee03",
   "metadata": {},
   "outputs": [
    {
     "data": {
      "image/png": "[encoded data removed]",
      "text/plain": [
       "<Figure size 640x480 with 1 Axes>"
      ]
     },
     "metadata": {},
     "output_type": "display_data"
    }
   ],
   "source": [
    "plt.scatter(x_test, y_test, color = 'green')\n",
    "plt.xlabel(\"Years In Experience\")\n",
    "plt.ylabel(\"Salary Earned\")\n",
    "plt.title(\"Test Model Visualization\")\n",
    "plt.show()"
   ]
  },
  {
   "cell_type": "markdown",
   "id": "2f2f2f22-1aad-4bf1-a06f-4251c316715a",
   "metadata": {},
   "source": [
    "#### Model To Predict"
   ]
  },
  {
   "cell_type": "code",
   "execution_count": 26,
   "id": "20c97b32-71d2-4231-88e3-f9a97f7451a9",
   "metadata": {},
   "outputs": [
    {
     "name": "stderr",
     "output_type": "stream",
     "text": [
      "C:\\Users\\Ishita Sindani\\anaconda3\\Lib\\site-packages\\sklearn\\base.py:439: UserWarning: X does not have valid feature names, but LinearRegression was fitted with feature names\n",
      "  warnings.warn(\n"
     ]
    },
    {
     "data": {
      "text/plain": [
       "array([36820.38334979])"
      ]
     },
     "execution_count": 26,
     "metadata": {},
     "output_type": "execute_result"
    }
   ],
   "source": [
    "model.predict(np.array([1]).reshape(1,-1)) \n",
    "\n",
    "# where there is 4, insert numbers of years to predict the salary!\n",
    "# Thanks for going through my model!"
   ]
  },
  {
   "cell_type": "code",
   "execution_count": null,
   "id": "62367d8e-ef7f-42f0-b8b1-e368f2058491",
   "metadata": {},
   "outputs": [],
   "source": []
  }
 ],
 "metadata": {
  "kernelspec": {
   "display_name": "Python 3 (ipykernel)",
   "language": "python",
   "name": "python3"
  },
  "language_info": {
   "codemirror_mode": {
    "name": "ipython",
    "version": 3
   },
   "file_extension": ".py",
   "mimetype": "text/x-python",
   "name": "python",
   "nbconvert_exporter": "python",
   "pygments_lexer": "ipython3",
   "version": "3.11.7"
  }
 },
 "nbformat": 4,
 "nbformat_minor": 5
}
